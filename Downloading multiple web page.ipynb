import requests
import os

folder_name = 'programmatica download'
if not os.path.exists(folder_name):
    os.makedirs(folder_name)


testing_urls = ['https://www.nairaland.com/politics',
               'https://www.nairaland.com/crime',
               'https://www.nairaland.com/romance']


# Implement the code in the video above in a for loop for all Ebert reviews
for url in testing_urls:
    response = requests.get(url)
    with open(os.path.join(folder_name, url.split('/')[-1]), mode = 'wb') as file:
        file.write(response.content)

os.listdir(folder_name)