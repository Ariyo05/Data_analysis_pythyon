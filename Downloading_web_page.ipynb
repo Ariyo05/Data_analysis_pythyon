import pandas as pd
import requests

with open('politics.html', mode ='wb') as file:
    file.write(response.content)